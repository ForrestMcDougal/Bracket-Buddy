{
 "cells": [
  {
   "cell_type": "code",
   "execution_count": 16,
   "metadata": {},
   "outputs": [],
   "source": [
    "import pandas as pd\n",
    "import numpy as np"
   ]
  },
  {
   "cell_type": "code",
   "execution_count": null,
   "metadata": {},
   "outputs": [],
   "source": [
    "ml = pd.read_csv('./data/ml_data/model_data.csv')\n",
    "len(ml)\n",
    "# Length of Forrest's dataset"
   ]
  },
  {
   "cell_type": "code",
   "execution_count": 18,
   "metadata": {},
   "outputs": [
    {
     "data": {
      "text/html": [
       "<div>\n",
       "<style scoped>\n",
       "    .dataframe tbody tr th:only-of-type {\n",
       "        vertical-align: middle;\n",
       "    }\n",
       "\n",
       "    .dataframe tbody tr th {\n",
       "        vertical-align: top;\n",
       "    }\n",
       "\n",
       "    .dataframe thead th {\n",
       "        text-align: right;\n",
       "    }\n",
       "</style>\n",
       "<table border=\"1\" class=\"dataframe\">\n",
       "  <thead>\n",
       "    <tr style=\"text-align: right;\">\n",
       "      <th></th>\n",
       "      <th>h_AdjTempo</th>\n",
       "      <th>h_AdjOE</th>\n",
       "      <th>h_AdjDE</th>\n",
       "      <th>h_eFG_Pct_O</th>\n",
       "      <th>h_eFG_Pct_D</th>\n",
       "      <th>h_TO_Pct_O</th>\n",
       "      <th>h_TO_Pct_D</th>\n",
       "      <th>h_OR_Pct_O</th>\n",
       "      <th>h_OR_Pct_D</th>\n",
       "      <th>h_FT_Rate_O</th>\n",
       "      <th>...</th>\n",
       "      <th>a_OppBlockPct</th>\n",
       "      <th>a_F3GRate</th>\n",
       "      <th>a_OppF3GRate</th>\n",
       "      <th>a_ARate</th>\n",
       "      <th>a_OppARate</th>\n",
       "      <th>a_StlRate</th>\n",
       "      <th>a_OppStlRate</th>\n",
       "      <th>hca</th>\n",
       "      <th>home_points</th>\n",
       "      <th>away_points</th>\n",
       "    </tr>\n",
       "  </thead>\n",
       "  <tbody>\n",
       "    <tr>\n",
       "      <th>0</th>\n",
       "      <td>56.9537</td>\n",
       "      <td>96.7489</td>\n",
       "      <td>104.867</td>\n",
       "      <td>50.0378</td>\n",
       "      <td>53.1845</td>\n",
       "      <td>22.4911</td>\n",
       "      <td>19.9856</td>\n",
       "      <td>23.3696</td>\n",
       "      <td>31.5758</td>\n",
       "      <td>34.4175</td>\n",
       "      <td>...</td>\n",
       "      <td>9.6466</td>\n",
       "      <td>37.6415</td>\n",
       "      <td>35.5422</td>\n",
       "      <td>48.3266</td>\n",
       "      <td>49.7920</td>\n",
       "      <td>0.1061</td>\n",
       "      <td>0.0858</td>\n",
       "      <td>4.1</td>\n",
       "      <td>46</td>\n",
       "      <td>70</td>\n",
       "    </tr>\n",
       "    <tr>\n",
       "      <th>1</th>\n",
       "      <td>56.9537</td>\n",
       "      <td>96.7489</td>\n",
       "      <td>104.867</td>\n",
       "      <td>50.0378</td>\n",
       "      <td>53.1845</td>\n",
       "      <td>22.4911</td>\n",
       "      <td>19.9856</td>\n",
       "      <td>23.3696</td>\n",
       "      <td>31.5758</td>\n",
       "      <td>34.4175</td>\n",
       "      <td>...</td>\n",
       "      <td>7.4976</td>\n",
       "      <td>30.8418</td>\n",
       "      <td>31.6192</td>\n",
       "      <td>42.3701</td>\n",
       "      <td>54.7022</td>\n",
       "      <td>0.1148</td>\n",
       "      <td>0.1096</td>\n",
       "      <td>4.1</td>\n",
       "      <td>68</td>\n",
       "      <td>58</td>\n",
       "    </tr>\n",
       "    <tr>\n",
       "      <th>2</th>\n",
       "      <td>64.0592</td>\n",
       "      <td>110.2710</td>\n",
       "      <td>101.057</td>\n",
       "      <td>51.2293</td>\n",
       "      <td>49.3358</td>\n",
       "      <td>17.3706</td>\n",
       "      <td>19.7973</td>\n",
       "      <td>33.1795</td>\n",
       "      <td>27.7778</td>\n",
       "      <td>36.3271</td>\n",
       "      <td>...</td>\n",
       "      <td>10.6650</td>\n",
       "      <td>39.7126</td>\n",
       "      <td>44.2167</td>\n",
       "      <td>61.3793</td>\n",
       "      <td>60.6109</td>\n",
       "      <td>0.0816</td>\n",
       "      <td>0.1002</td>\n",
       "      <td>3.9</td>\n",
       "      <td>58</td>\n",
       "      <td>48</td>\n",
       "    </tr>\n",
       "    <tr>\n",
       "      <th>3</th>\n",
       "      <td>56.9537</td>\n",
       "      <td>96.7489</td>\n",
       "      <td>104.867</td>\n",
       "      <td>50.0378</td>\n",
       "      <td>53.1845</td>\n",
       "      <td>22.4911</td>\n",
       "      <td>19.9856</td>\n",
       "      <td>23.3696</td>\n",
       "      <td>31.5758</td>\n",
       "      <td>34.4175</td>\n",
       "      <td>...</td>\n",
       "      <td>10.5038</td>\n",
       "      <td>36.0082</td>\n",
       "      <td>39.1696</td>\n",
       "      <td>57.4040</td>\n",
       "      <td>57.1675</td>\n",
       "      <td>0.1091</td>\n",
       "      <td>0.0919</td>\n",
       "      <td>4.1</td>\n",
       "      <td>75</td>\n",
       "      <td>41</td>\n",
       "    </tr>\n",
       "    <tr>\n",
       "      <th>4</th>\n",
       "      <td>56.9537</td>\n",
       "      <td>96.7489</td>\n",
       "      <td>104.867</td>\n",
       "      <td>50.0378</td>\n",
       "      <td>53.1845</td>\n",
       "      <td>22.4911</td>\n",
       "      <td>19.9856</td>\n",
       "      <td>23.3696</td>\n",
       "      <td>31.5758</td>\n",
       "      <td>34.4175</td>\n",
       "      <td>...</td>\n",
       "      <td>7.0361</td>\n",
       "      <td>29.9877</td>\n",
       "      <td>34.7852</td>\n",
       "      <td>52.4793</td>\n",
       "      <td>53.1126</td>\n",
       "      <td>0.0878</td>\n",
       "      <td>0.1050</td>\n",
       "      <td>4.1</td>\n",
       "      <td>68</td>\n",
       "      <td>75</td>\n",
       "    </tr>\n",
       "  </tbody>\n",
       "</table>\n",
       "<p>5 rows × 113 columns</p>\n",
       "</div>"
      ],
      "text/plain": [
       "   h_AdjTempo   h_AdjOE  h_AdjDE  h_eFG_Pct_O  h_eFG_Pct_D  h_TO_Pct_O  \\\n",
       "0     56.9537   96.7489  104.867      50.0378      53.1845     22.4911   \n",
       "1     56.9537   96.7489  104.867      50.0378      53.1845     22.4911   \n",
       "2     64.0592  110.2710  101.057      51.2293      49.3358     17.3706   \n",
       "3     56.9537   96.7489  104.867      50.0378      53.1845     22.4911   \n",
       "4     56.9537   96.7489  104.867      50.0378      53.1845     22.4911   \n",
       "\n",
       "   h_TO_Pct_D  h_OR_Pct_O  h_OR_Pct_D  h_FT_Rate_O  ...  a_OppBlockPct  \\\n",
       "0     19.9856     23.3696     31.5758      34.4175  ...         9.6466   \n",
       "1     19.9856     23.3696     31.5758      34.4175  ...         7.4976   \n",
       "2     19.7973     33.1795     27.7778      36.3271  ...        10.6650   \n",
       "3     19.9856     23.3696     31.5758      34.4175  ...        10.5038   \n",
       "4     19.9856     23.3696     31.5758      34.4175  ...         7.0361   \n",
       "\n",
       "   a_F3GRate  a_OppF3GRate  a_ARate  a_OppARate  a_StlRate  a_OppStlRate  hca  \\\n",
       "0    37.6415       35.5422  48.3266     49.7920     0.1061        0.0858  4.1   \n",
       "1    30.8418       31.6192  42.3701     54.7022     0.1148        0.1096  4.1   \n",
       "2    39.7126       44.2167  61.3793     60.6109     0.0816        0.1002  3.9   \n",
       "3    36.0082       39.1696  57.4040     57.1675     0.1091        0.0919  4.1   \n",
       "4    29.9877       34.7852  52.4793     53.1126     0.0878        0.1050  4.1   \n",
       "\n",
       "   home_points  away_points  \n",
       "0           46           70  \n",
       "1           68           58  \n",
       "2           58           48  \n",
       "3           75           41  \n",
       "4           68           75  \n",
       "\n",
       "[5 rows x 113 columns]"
      ]
     },
     "execution_count": 18,
     "metadata": {},
     "output_type": "execute_result"
    }
   ],
   "source": [
    "ml.head()"
   ]
  },
  {
   "cell_type": "code",
   "execution_count": 4,
   "metadata": {},
   "outputs": [
    {
     "data": {
      "text/plain": [
       "59061"
      ]
     },
     "execution_count": 4,
     "metadata": {},
     "output_type": "execute_result"
    }
   ],
   "source": [
    "mldf = pd.read_csv('./data/sql_data/query_result.csv')\n",
    "len(mldf)\n",
    "# Query results with dups and nulls"
   ]
  },
  {
   "cell_type": "code",
   "execution_count": 8,
   "metadata": {},
   "outputs": [
    {
     "data": {
      "text/plain": [
       "52338"
      ]
     },
     "execution_count": 8,
     "metadata": {},
     "output_type": "execute_result"
    }
   ],
   "source": [
    "mlnn = mldf.loc[mldf['aOppFG2Pct'].notna()]\n",
    "# Get rid of nulls where away team data was not present\n",
    "mlnn = mlnn.loc[mlnn['hSeason'].notna()]\n",
    "# Get rid of nulls where home team data not present\n",
    "len(mlnn)"
   ]
  },
  {
   "cell_type": "code",
   "execution_count": 9,
   "metadata": {},
   "outputs": [],
   "source": [
    "mlnn['home_win'] = np.where(mlnn['home_points'] > mlnn['away_points'], True, False)"
   ]
  },
  {
   "cell_type": "code",
   "execution_count": null,
   "metadata": {},
   "outputs": [],
   "source": [
    "mlnn.to_csv('./data/sql_data/cleaned_home_away.csv')"
   ]
  },
  {
   "cell_type": "code",
   "execution_count": 10,
   "metadata": {},
   "outputs": [
    {
     "data": {
      "text/plain": [
       "2"
      ]
     },
     "execution_count": 10,
     "metadata": {},
     "output_type": "execute_result"
    }
   ],
   "source": [
    "grouped = mlnn.groupby(['home_win']).count()\n",
    "len(grouped)"
   ]
  },
  {
   "cell_type": "code",
   "execution_count": 11,
   "metadata": {},
   "outputs": [
    {
     "data": {
      "text/html": [
       "<div>\n",
       "<style scoped>\n",
       "    .dataframe tbody tr th:only-of-type {\n",
       "        vertical-align: middle;\n",
       "    }\n",
       "\n",
       "    .dataframe tbody tr th {\n",
       "        vertical-align: top;\n",
       "    }\n",
       "\n",
       "    .dataframe thead th {\n",
       "        text-align: right;\n",
       "    }\n",
       "</style>\n",
       "<table border=\"1\" class=\"dataframe\">\n",
       "  <thead>\n",
       "    <tr style=\"text-align: right;\">\n",
       "      <th></th>\n",
       "      <th>away_team</th>\n",
       "      <th>home_team</th>\n",
       "      <th>home_points</th>\n",
       "      <th>away_points</th>\n",
       "      <th>neutral</th>\n",
       "      <th>KP_home</th>\n",
       "      <th>hSeason</th>\n",
       "      <th>hAdjTempo</th>\n",
       "      <th>hAdjOE</th>\n",
       "      <th>heFG_Pct_O</th>\n",
       "      <th>...</th>\n",
       "      <th>aOppFG2Pct</th>\n",
       "      <th>aOppFG3Pct</th>\n",
       "      <th>aOppFTPct</th>\n",
       "      <th>aOppBlockPct</th>\n",
       "      <th>aF3GRate</th>\n",
       "      <th>aOppF3GRate</th>\n",
       "      <th>aARate</th>\n",
       "      <th>aOppARate</th>\n",
       "      <th>aStlRate</th>\n",
       "      <th>aOppStlRate</th>\n",
       "    </tr>\n",
       "    <tr>\n",
       "      <th>home_win</th>\n",
       "      <th></th>\n",
       "      <th></th>\n",
       "      <th></th>\n",
       "      <th></th>\n",
       "      <th></th>\n",
       "      <th></th>\n",
       "      <th></th>\n",
       "      <th></th>\n",
       "      <th></th>\n",
       "      <th></th>\n",
       "      <th></th>\n",
       "      <th></th>\n",
       "      <th></th>\n",
       "      <th></th>\n",
       "      <th></th>\n",
       "      <th></th>\n",
       "      <th></th>\n",
       "      <th></th>\n",
       "      <th></th>\n",
       "      <th></th>\n",
       "      <th></th>\n",
       "    </tr>\n",
       "  </thead>\n",
       "  <tbody>\n",
       "    <tr>\n",
       "      <th>False</th>\n",
       "      <td>15927</td>\n",
       "      <td>15927</td>\n",
       "      <td>15927</td>\n",
       "      <td>15927</td>\n",
       "      <td>15927</td>\n",
       "      <td>15927</td>\n",
       "      <td>15927</td>\n",
       "      <td>15927</td>\n",
       "      <td>15927</td>\n",
       "      <td>15927</td>\n",
       "      <td>...</td>\n",
       "      <td>15927</td>\n",
       "      <td>15927</td>\n",
       "      <td>15927</td>\n",
       "      <td>15927</td>\n",
       "      <td>15927</td>\n",
       "      <td>15927</td>\n",
       "      <td>15927</td>\n",
       "      <td>15927</td>\n",
       "      <td>15927</td>\n",
       "      <td>15927</td>\n",
       "    </tr>\n",
       "    <tr>\n",
       "      <th>True</th>\n",
       "      <td>36411</td>\n",
       "      <td>36411</td>\n",
       "      <td>36411</td>\n",
       "      <td>36411</td>\n",
       "      <td>36411</td>\n",
       "      <td>36411</td>\n",
       "      <td>36411</td>\n",
       "      <td>36411</td>\n",
       "      <td>36411</td>\n",
       "      <td>36411</td>\n",
       "      <td>...</td>\n",
       "      <td>36411</td>\n",
       "      <td>36411</td>\n",
       "      <td>36411</td>\n",
       "      <td>36411</td>\n",
       "      <td>36411</td>\n",
       "      <td>36411</td>\n",
       "      <td>36411</td>\n",
       "      <td>36411</td>\n",
       "      <td>36411</td>\n",
       "      <td>36411</td>\n",
       "    </tr>\n",
       "  </tbody>\n",
       "</table>\n",
       "<p>2 rows × 117 columns</p>\n",
       "</div>"
      ],
      "text/plain": [
       "          away_team  home_team  home_points  away_points  neutral  KP_home  \\\n",
       "home_win                                                                     \n",
       "False         15927      15927        15927        15927    15927    15927   \n",
       "True          36411      36411        36411        36411    36411    36411   \n",
       "\n",
       "          hSeason  hAdjTempo  hAdjOE  heFG_Pct_O  ...  aOppFG2Pct  aOppFG3Pct  \\\n",
       "home_win                                          ...                           \n",
       "False       15927      15927   15927       15927  ...       15927       15927   \n",
       "True        36411      36411   36411       36411  ...       36411       36411   \n",
       "\n",
       "          aOppFTPct  aOppBlockPct  aF3GRate  aOppF3GRate  aARate  aOppARate  \\\n",
       "home_win                                                                      \n",
       "False         15927         15927     15927        15927   15927      15927   \n",
       "True          36411         36411     36411        36411   36411      36411   \n",
       "\n",
       "          aStlRate  aOppStlRate  \n",
       "home_win                         \n",
       "False        15927        15927  \n",
       "True         36411        36411  \n",
       "\n",
       "[2 rows x 117 columns]"
      ]
     },
     "execution_count": 11,
     "metadata": {},
     "output_type": "execute_result"
    }
   ],
   "source": [
    "grouped.head()"
   ]
  },
  {
   "cell_type": "code",
   "execution_count": 12,
   "metadata": {},
   "outputs": [
    {
     "data": {
      "text/plain": [
       "['away_team',\n",
       " 'home_team',\n",
       " 'home_points',\n",
       " 'away_points',\n",
       " 'neutral',\n",
       " 'KP_home',\n",
       " 'hSeason',\n",
       " 'hAdjTempo',\n",
       " 'hAdjOE',\n",
       " 'heFG_Pct_O',\n",
       " 'heFG_Pct_D',\n",
       " 'hTO_Pct_O',\n",
       " 'hTO_Pct_D',\n",
       " 'hOR_Pct_O',\n",
       " 'hOR_Pct_D',\n",
       " 'hFT_Rate_O',\n",
       " 'hFT_Rate_D',\n",
       " 'hOFF_FT',\n",
       " 'hOFF_2PT',\n",
       " 'hOFF_3PT',\n",
       " 'hDEF_FT',\n",
       " 'hDEF_2PT',\n",
       " 'hDEF_3PT',\n",
       " 'hSize',\n",
       " 'hHgt1',\n",
       " 'hHgt2',\n",
       " 'hHgt3',\n",
       " 'hHgt4',\n",
       " 'hHgt5',\n",
       " 'hHgtEff',\n",
       " 'hExp',\n",
       " 'hBench',\n",
       " 'hPts1',\n",
       " 'hPts2',\n",
       " 'hPts3',\n",
       " 'hPts4',\n",
       " 'hPts5',\n",
       " 'hOR1',\n",
       " 'hOR2',\n",
       " 'hOR3',\n",
       " 'hOR4',\n",
       " 'hOR5',\n",
       " 'hDR1',\n",
       " 'hDR2',\n",
       " 'hDR3',\n",
       " 'hDR4',\n",
       " 'hDR5',\n",
       " 'hFG2Pct',\n",
       " 'hFG3Pct',\n",
       " 'hFTPct',\n",
       " 'hBlockPct',\n",
       " 'hOppFG2Pct',\n",
       " 'hOppFG3Pct',\n",
       " 'hOppFTPct',\n",
       " 'hOppBlockPct',\n",
       " 'hF3GRate',\n",
       " 'hOppF3GRate',\n",
       " 'hARate',\n",
       " 'hOppARate',\n",
       " 'hStlRate',\n",
       " 'hOppStlRate',\n",
       " 'KP_home.1',\n",
       " 'aSeason',\n",
       " 'aAdjTempo',\n",
       " 'aAdjOE',\n",
       " 'aeFG_Pct_O',\n",
       " 'aeFG_Pct_D',\n",
       " 'aTO_Pct_O',\n",
       " 'aTO_Pct_D',\n",
       " 'aOR_Pct_O',\n",
       " 'aOR_Pct_D',\n",
       " 'aFT_Rate_O',\n",
       " 'aFT_Rate_D',\n",
       " 'aOFF_FT',\n",
       " 'aOFF_2PT',\n",
       " 'aOFF_3PT',\n",
       " 'aDEF_FT',\n",
       " 'aDEF_2PT',\n",
       " 'aDEF_3PT',\n",
       " 'aSize',\n",
       " 'aHgt1',\n",
       " 'aHgt2',\n",
       " 'aHgt3',\n",
       " 'aHgt4',\n",
       " 'aHgt5',\n",
       " 'aHgtEff',\n",
       " 'aExp',\n",
       " 'aBench',\n",
       " 'aPts1',\n",
       " 'aPts2',\n",
       " 'aPts3',\n",
       " 'aPts4',\n",
       " 'aPts5',\n",
       " 'aOR1',\n",
       " 'aOR2',\n",
       " 'aOR3',\n",
       " 'aOR4',\n",
       " 'aOR5',\n",
       " 'aDR1',\n",
       " 'aDR2',\n",
       " 'aDR3',\n",
       " 'aDR4',\n",
       " 'aDR5',\n",
       " 'aFG2Pct',\n",
       " 'aFG3Pct',\n",
       " 'aFTPct',\n",
       " 'aBlockPct',\n",
       " 'aOppFG2Pct',\n",
       " 'aOppFG3Pct',\n",
       " 'aOppFTPct',\n",
       " 'aOppBlockPct',\n",
       " 'aF3GRate',\n",
       " 'aOppF3GRate',\n",
       " 'aARate',\n",
       " 'aOppARate',\n",
       " 'aStlRate',\n",
       " 'aOppStlRate',\n",
       " 'home_win']"
      ]
     },
     "execution_count": 12,
     "metadata": {},
     "output_type": "execute_result"
    }
   ],
   "source": [
    "list(mlnn.columns.values)"
   ]
  },
  {
   "cell_type": "code",
   "execution_count": 13,
   "metadata": {},
   "outputs": [
    {
     "data": {
      "text/plain": [
       "347"
      ]
     },
     "execution_count": 13,
     "metadata": {},
     "output_type": "execute_result"
    }
   ],
   "source": [
    "len(mlnn['away_team'].unique())\n",
    "# NB there are 355 sportsref teams and 353 in Kenpom's HCA data. "
   ]
  },
  {
   "cell_type": "code",
   "execution_count": 14,
   "metadata": {},
   "outputs": [
    {
     "data": {
      "text/plain": [
       "347"
      ]
     },
     "execution_count": 14,
     "metadata": {},
     "output_type": "execute_result"
    }
   ],
   "source": [
    "len(mlnn['home_team'].unique()) #There are 395 unique home_teams in the Sportsref all_games csv, \n",
    "# and 1156 unique away_teams"
   ]
  },
  {
   "cell_type": "code",
   "execution_count": 15,
   "metadata": {},
   "outputs": [
    {
     "data": {
      "text/plain": [
       "52338"
      ]
     },
     "execution_count": 15,
     "metadata": {},
     "output_type": "execute_result"
    }
   ],
   "source": [
    "len(mlnn)"
   ]
  },
  {
   "cell_type": "code",
   "execution_count": null,
   "metadata": {},
   "outputs": [],
   "source": []
  }
 ],
 "metadata": {
  "kernelspec": {
   "display_name": "Python 3",
   "language": "python",
   "name": "python3"
  },
  "language_info": {
   "codemirror_mode": {
    "name": "ipython",
    "version": 3
   },
   "file_extension": ".py",
   "mimetype": "text/x-python",
   "name": "python",
   "nbconvert_exporter": "python",
   "pygments_lexer": "ipython3",
   "version": "3.6.8"
  }
 },
 "nbformat": 4,
 "nbformat_minor": 2
}
