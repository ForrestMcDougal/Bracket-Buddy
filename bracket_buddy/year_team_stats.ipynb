{
 "cells": [
  {
   "cell_type": "code",
   "execution_count": null,
   "metadata": {},
   "outputs": [],
   "source": [
    "import os\n",
    "import numpy as np\n",
    "import pandas as pd"
   ]
  },
  {
   "cell_type": "code",
   "execution_count": null,
   "metadata": {},
   "outputs": [],
   "source": [
    "from name_map import name_map"
   ]
  },
  {
   "cell_type": "code",
   "execution_count": null,
   "metadata": {},
   "outputs": [],
   "source": [
    "from sportsreference.ncaab.teams import Teams\n",
    "\n",
    "team_year_std = {}\n",
    "\n",
    "for year in range(2011, 2020):\n",
    "    year = str(year)\n",
    "    print(year)\n",
    "    team_year_std[year] = {}\n",
    "    for team in Teams(year=year):\n",
    "        path = os.path.join('data', 'ml_data', 'boxscores', f'{year}_{team.abbreviation.lower()}.csv')\n",
    "        df = pd.read_csv(path)\n",
    "        df = df.drop(['G', 'Date', 'Location', 'Opp', 'W/L', 'h_points', 'a_points'], axis=1)\n",
    "        cols = ['hFG', 'hFGA', 'hFG%', 'h3P', 'h3PA', 'h3P%', 'hFT', 'hFTA', 'hFT%', 'hORB', 'hTRB',\n",
    "                'hAST', 'hSTL', 'hBLK', 'hTOV', 'hPF', 'aFG', 'aFGA', 'aFG%', 'a3P', 'a3PA', 'a3P%', \n",
    "                'aFT', 'aFTA', 'aFT%', 'aORB', 'aTRB', 'aAST', 'aSTL', 'aBLK', 'aTOV', 'aPF', 'ORtg',\n",
    "                'DRtg', 'Pace', 'FTr', '3PAr', 'TS%', 'TRB%', 'AST%', 'STL%', 'BLK%', 'OeFG%', 'OTOV%', \n",
    "                'OORB%', 'OFT/FGA', 'DeFG%', 'DTOV%', 'DDRB%', 'DFT/FGA']\n",
    "        df[cols] = df[cols].apply(pd.to_numeric, errors='coerce')\n",
    "        res = np.std(df, axis=0).to_dict()\n",
    "        team_mapped = name_map.get(team.abbreviation.lower(), None)\n",
    "        if team_mapped:\n",
    "            team_year_std[year][team_mapped] = res"
   ]
  },
  {
   "cell_type": "code",
   "execution_count": null,
   "metadata": {},
   "outputs": [],
   "source": [
    "full_cols = ['G', 'Date', 'Location', 'Opp', 'W/L', 'h_points', 'a_points',\n",
    "             'hFG', 'hFGA', 'hFG%', 'h3P', 'h3PA', 'h3P%', 'hFT', 'hFTA', 'hFT%', 'hORB', 'hTRB',\n",
    "             'hAST', 'hSTL', 'hBLK', 'hTOV', 'hPF', 'aFG', 'aFGA', 'aFG%', 'a3P', 'a3PA', 'a3P%', \n",
    "             'aFT', 'aFTA', 'aFT%', 'aORB', 'aTRB', 'aAST', 'aSTL', 'aBLK', 'aTOV', 'aPF', 'ORtg',\n",
    "             'DRtg', 'Pace', 'FTr', '3PAr', 'TS%', 'TRB%', 'AST%', 'STL%', 'BLK%', 'OeFG%', 'OTOV%', \n",
    "             'OORB%', 'OFT/FGA', 'DeFG%', 'DTOV%', 'DDRB%', 'DFT/FGA']\n",
    "cols = ['hFG', 'hFGA', 'hFG%', 'h3P', 'h3PA', 'h3P%', 'hFT', 'hFTA', 'hFT%', 'hORB', 'hTRB',\n",
    "        'hAST', 'hSTL', 'hBLK', 'hTOV', 'hPF', 'aFG', 'aFGA', 'aFG%', 'a3P', 'a3PA', 'a3P%', \n",
    "        'aFT', 'aFTA', 'aFT%', 'aORB', 'aTRB', 'aAST', 'aSTL', 'aBLK', 'aTOV', 'aPF', 'ORtg',\n",
    "        'DRtg', 'Pace', 'FTr', '3PAr', 'TS%', 'TRB%', 'AST%', 'STL%', 'BLK%', 'OeFG%', 'OTOV%', \n",
    "        'OORB%', 'OFT/FGA', 'DeFG%', 'DTOV%', 'DDRB%', 'DFT/FGA']\n",
    "\n",
    "year_std = {}\n",
    "\n",
    "for year in range(2011, 2020):\n",
    "    year = str(year)\n",
    "    print(year)\n",
    "    master_df = pd.DataFrame(columns=full_cols)\n",
    "    for team in Teams(year=year):\n",
    "        path = os.path.join('data', 'ml_data', 'boxscores', f'{year}_{team.abbreviation.lower()}.csv')\n",
    "        df = pd.read_csv(path)\n",
    "        df[cols] = df[cols].apply(pd.to_numeric, errors='coerce')\n",
    "        for _, row in df.iterrows():\n",
    "            master_df.loc[len(master_df)] = row\n",
    "    output_path = os.path.join('data', 'ml_data', 'boxscores', f'{year}_all.csv')\n",
    "    master_df.to_csv(output_path)\n",
    "\n",
    "print('done')"
   ]
  },
  {
   "cell_type": "code",
   "execution_count": null,
   "metadata": {},
   "outputs": [],
   "source": [
    "master_df = pd.DataFrame(columns=cols)\n",
    "\n",
    "for year in range(2011, 2020):\n",
    "    path = os.path.join('data', 'ml_data', 'boxscores', f'{year}_all.csv')\n",
    "    df = pd.read_csv(path)\n",
    "    df = df.drop(['G', 'Date', 'Location', 'Opp', 'W/L', 'h_points', 'a_points'], axis=1)\n",
    "    df[cols] = df[cols].apply(pd.to_numeric, errors='coerce')\n",
    "    master_df = pd.concat([master_df, df], ignore_index=True)\n",
    "    print(year)\n",
    "    \n",
    "year_std = np.std(master_df, axis=0).to_dict()"
   ]
  },
  {
   "cell_type": "code",
   "execution_count": null,
   "metadata": {},
   "outputs": [],
   "source": []
  }
 ],
 "metadata": {
  "kernelspec": {
   "display_name": "Python 3",
   "language": "python",
   "name": "python3"
  },
  "language_info": {
   "codemirror_mode": {
    "name": "ipython",
    "version": 3
   },
   "file_extension": ".py",
   "mimetype": "text/x-python",
   "name": "python",
   "nbconvert_exporter": "python",
   "pygments_lexer": "ipython3",
   "version": "3.6.8"
  }
 },
 "nbformat": 4,
 "nbformat_minor": 2
}
