{
 "cells": [
  {
   "cell_type": "code",
   "execution_count": null,
   "metadata": {},
   "outputs": [],
   "source": [
    "import pandas as pd\n",
    "\n",
    "boxscore_str = 'https://www.sports-reference.com/cbb/schools/{team}/{year}-gamelogs.html'\n",
    "adv_boxscore_str = 'https://www.sports-reference.com/cbb/schools/{team}/{year}-gamelogs-advanced.html'"
   ]
  },
  {
   "cell_type": "code",
   "execution_count": null,
   "metadata": {},
   "outputs": [],
   "source": [
    "import os\n",
    "from sportsreference.ncaab.teams import Teams\n",
    "\n",
    "for year in range(2011, 2020):\n",
    "    year = str(year)\n",
    "    print(year)\n",
    "    for team in Teams(year=year):\n",
    "        try:\n",
    "            path = os.path.join('data', 'ml_data', 'boxscores', f'{year}_{team.abbreviation.lower()}.csv')\n",
    "            tables = pd.read_html(boxscore_str.format(team=team.abbreviation.lower(), year=year))\n",
    "            boxscore = tables[0]\n",
    "            boxscore.columns = boxscore.columns.droplevel()\n",
    "            boxscore.columns = ['G', 'Date', 'Location', 'Opp', 'W/L', 'h_points', 'a_points', 'hFG',\n",
    "                                'hFGA', 'hFG%', 'h3P', 'h3PA', 'h3P%', 'hFT', 'hFTA', 'hFT%', 'hORB', 'hTRB',\n",
    "                                'hAST', 'hSTL', 'hBLK', 'hTOV', 'hPF', 'Unnamed: 23_level_1', 'aFG', 'aFGA',\n",
    "                                'aFG%', 'a3P', 'a3PA', 'a3P%', 'aFT', 'aFTA', 'aFT%', 'aORB', 'aTRB', 'aAST',\n",
    "                                'aSTL', 'aBLK', 'aTOV', 'aPF']\n",
    "            boxscore = boxscore.drop('Unnamed: 23_level_1', axis=1)\n",
    "            boxscore = boxscore.drop([20, 21])\n",
    "            adv_tables = pd.read_html(adv_boxscore_str.format(team=team.abbreviation.lower(), year=year))\n",
    "            adv_boxscore = adv_tables[0]\n",
    "            adv_boxscore.columns = adv_boxscore.columns.droplevel()\n",
    "            adv_boxscore.columns = ['G', 'Date', 'Location', 'Opp', 'W/L', 'Tm', 'Opp', 'ORtg',\n",
    "                                    'DRtg', 'Pace', 'FTr', '3PAr', 'TS%', 'TRB%', 'AST%', 'STL%', 'BLK%',\n",
    "                                    'Unnamed: 17_level_1', 'OeFG%', 'OTOV%', 'OORB%', 'OFT/FGA',\n",
    "                                    'Unnamed: 22_level_1', 'DeFG%', 'DTOV%', 'DDRB%', 'DFT/FGA']\n",
    "            adv_boxscore = adv_boxscore.drop(['G', 'Location', 'Opp', 'W/L', 'Tm', 'Opp', \n",
    "                                              'Unnamed: 17_level_1', 'Unnamed: 22_level_1'], axis=1)\n",
    "            adv_boxscore = adv_boxscore.drop([20, 21])\n",
    "            full_boxscore = boxscore.merge(adv_boxscore, on=\"Date\")\n",
    "            full_boxscore.to_csv(path, index=False)\n",
    "        except Exception as e:\n",
    "            print(e)"
   ]
  }
 ],
 "metadata": {
  "kernelspec": {
   "display_name": "Python 3",
   "language": "python",
   "name": "python3"
  },
  "language_info": {
   "codemirror_mode": {
    "name": "ipython",
    "version": 3
   },
   "file_extension": ".py",
   "mimetype": "text/x-python",
   "name": "python",
   "nbconvert_exporter": "python",
   "pygments_lexer": "ipython3",
   "version": "3.6.8"
  }
 },
 "nbformat": 4,
 "nbformat_minor": 2
}
