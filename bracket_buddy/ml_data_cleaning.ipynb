{
 "cells": [
  {
   "cell_type": "code",
   "execution_count": 1,
   "metadata": {},
   "outputs": [],
   "source": [
    "import os\n",
    "import numpy as np\n",
    "import pandas as pd"
   ]
  },
  {
   "cell_type": "code",
   "execution_count": 3,
   "metadata": {},
   "outputs": [
    {
     "name": "stdout",
     "output_type": "stream",
     "text": [
      "2010\n",
      "2011\n",
      "2012\n",
      "2013\n",
      "2014\n",
      "2015\n",
      "2016\n",
      "2017\n",
      "2018\n",
      "2019\n"
     ]
    }
   ],
   "source": [
    "master_df = pd.DataFrame()\n",
    "\n",
    "for year in range(2010, 2020):\n",
    "    year = str(year)\n",
    "    print(year)\n",
    "    df_path = os.path.join('data', 'cleaned', f'master_{year}.csv')\n",
    "    df_year = pd.read_csv(df_path)\n",
    "    df_pruned = df_year[['TeamName', 'Season', 'AdjTempo', 'AdjOE', 'AdjDE', 'eFG_Pct_O', 'eFG_Pct_D', \n",
    "                         'TO_Pct_O', 'TO_Pct_D', 'OR_Pct_O', 'OR_Pct_D', 'FT_Rate_O', 'FT_Rate_D',\n",
    "                         'OFF_FT', 'OFF_2PT', 'OFF_3PT', 'DEF_FT', 'DEF_2PT', 'DEF_3PT', 'Size', \n",
    "                         'Hgt1', 'Hgt2', 'Hgt3', 'Hgt4', 'Hgt5', 'HgtEff', 'Exp', 'Bench', 'Pts1', 'Pts2',\n",
    "                         'Pts3', 'Pts4', 'Pts5', 'OR1', 'OR2', 'OR3', 'OR4', 'OR5', 'DR1', 'DR2', 'DR3', 'DR4',\n",
    "                         'DR5', 'FG2Pct', 'FG3Pct', 'FTPct', 'BlockPct', 'OppFG2Pct', 'OppFG3Pct', 'OppFTPct',\n",
    "                         'OppBlockPct', 'F3GRate', 'OppF3GRate', 'ARate', 'OppARate', 'StlRate', 'OppStlRate']]\n",
    "    master_df = pd.concat([master_df, df_pruned], ignore_index=True)\n",
    "    \n",
    "output_path = os.path.join('data', 'cleaned', 'master_kenpom.csv')\n",
    "master_df.to_csv(output_path)"
   ]
  },
  {
   "cell_type": "code",
   "execution_count": null,
   "metadata": {},
   "outputs": [],
   "source": []
  }
 ],
 "metadata": {
  "kernelspec": {
   "display_name": "Python 3",
   "language": "python",
   "name": "python3"
  },
  "language_info": {
   "codemirror_mode": {
    "name": "ipython",
    "version": 3
   },
   "file_extension": ".py",
   "mimetype": "text/x-python",
   "name": "python",
   "nbconvert_exporter": "python",
   "pygments_lexer": "ipython3",
   "version": "3.6.8"
  }
 },
 "nbformat": 4,
 "nbformat_minor": 2
}
